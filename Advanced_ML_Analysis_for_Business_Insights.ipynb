{
  "nbformat": 4,
  "nbformat_minor": 0,
  "metadata": {
    "colab": {
      "provenance": [],
      "authorship_tag": "ABX9TyOQIB2aiCb9WBm2MQgh/cDH",
      "include_colab_link": true
    },
    "kernelspec": {
      "name": "python3",
      "display_name": "Python 3"
    },
    "language_info": {
      "name": "python"
    }
  },
  "cells": [
    {
      "cell_type": "markdown",
      "metadata": {
        "id": "view-in-github",
        "colab_type": "text"
      },
      "source": [
        "<a href=\"https://colab.research.google.com/github/alvintnw/Advanced_ML_Analysis_for_Business_Insights/blob/main/Advanced_ML_Analysis_for_Business_Insights.ipynb\" target=\"_parent\"><img src=\"https://colab.research.google.com/assets/colab-badge.svg\" alt=\"Open In Colab\"/></a>"
      ]
    },
    {
      "cell_type": "code",
      "execution_count": null,
      "metadata": {
        "id": "j6PwIUNg5Uqr"
      },
      "outputs": [],
      "source": [
        "# Menginstal library tambahan jika diperlukan (misalnya XGBoost, SHAP untuk interpretasi model)\n",
        "!pip install pandas numpy scikit-learn matplotlib seaborn xgboost shap\n",
        "!pip install tensorflow # Atau !pip install torch torchvision torchaudio jika menggunakan PyTorch\n",
        "\n",
        "# Mengimpor library yang dibutuhkan\n",
        "import pandas as pd\n",
        "import numpy as np\n",
        "import matplotlib.pyplot as plt\n",
        "import seaborn as sns\n",
        "\n",
        "from sklearn.model_selection import train_test_split\n",
        "from sklearn.preprocessing import StandardScaler, OneHotEncoder\n",
        "from sklearn.compose import ColumnTransformer\n",
        "from sklearn.pipeline import Pipeline\n",
        "from sklearn.metrics import classification_report, confusion_matrix, roc_curve, auc\n",
        "\n",
        "import xgboost as xgb\n",
        "import tensorflow as tf # Atau import torch as th jika menggunakan PyTorch\n",
        "\n",
        "# Untuk interpretasi model\n",
        "import shap\n",
        "\n",
        "# Mengatur tampilan default plot\n",
        "sns.set_style(\"whitegrid\")\n",
        "plt.rcParams['figure.figsize'] = (10, 6)"
      ]
    },
    {
      "cell_type": "code",
      "source": [
        "# Contoh data publik (misal, dari UCI ML Repository)\n",
        "df = pd.read_csv('https://archive.ics.uci.edu/ml/machine-learning-databases/iris/iris.data', header=None)\n",
        "df.columns = ['sepal_length', 'sepal_width', 'petal_length', 'petal_width', 'species']\n",
        "\n",
        "# Contoh data sintetis untuk demonstrasi (prediksi churn)\n",
        "from sklearn.datasets import make_classification\n",
        "X, y = make_classification(n_samples=1000, n_features=10, n_informative=5, n_redundant=0,\n",
        "                           n_clusters_per_class=1, flip_y=0.1, random_state=42)\n",
        "feature_names = [f'feature_{i}' for i in range(X.shape[1])]\n",
        "df = pd.DataFrame(X, columns=feature_names)\n",
        "df['target_churn'] = y\n",
        "\n",
        "print(\"Data berhasil dimuat. Beberapa baris pertama:\")\n",
        "print(df.head())\n",
        "print(\"\\nInformasi Data:\")\n",
        "df.info()"
      ],
      "metadata": {
        "id": "utG2bMWB5oZ_"
      },
      "execution_count": null,
      "outputs": []
    },
    {
      "cell_type": "code",
      "source": [
        "# Statistik deskriptif\n",
        "print(\"\\nStatistik Deskriptif:\")\n",
        "print(df.describe())\n",
        "\n",
        "# Distribusi variabel target\n",
        "print(\"\\nDistribusi Variabel Target (Churn):\")\n",
        "print(df['target_churn'].value_counts())\n",
        "sns.countplot(x='target_churn', data=df)\n",
        "plt.title('Distribusi Pelanggan Churn vs. Non-Churn')\n",
        "plt.show()\n",
        "\n",
        "# Korelasi antar fitur (jika semua numerik)\n",
        "if df.select_dtypes(include=np.number).shape[1] > 1:\n",
        "    plt.figure(figsize=(12, 8))\n",
        "    sns.heatmap(df.corr(), annot=True, cmap='coolwarm', fmt=\".2f\")\n",
        "    plt.title('Matriks Korelasi Fitur')\n",
        "    plt.show()\n",
        "\n",
        "# Visualisasi distribusi fitur penting\n",
        "for col in df.columns[:-1]: # Abaikan kolom target\n",
        "    plt.figure(figsize=(8, 5))\n",
        "    sns.histplot(df, x=col, hue='target_churn', kde=True)\n",
        "    plt.title(f'Distribusi {col} berdasarkan Churn')\n",
        "    plt.show()"
      ],
      "metadata": {
        "id": "Au0yo4_b5uBJ"
      },
      "execution_count": null,
      "outputs": []
    },
    {
      "cell_type": "code",
      "source": [
        "# Memisahkan fitur (X) dan target (y)\n",
        "X = df.drop('target_churn', axis=1)\n",
        "y = df['target_churn']\n",
        "\n",
        "# Memisahkan data menjadi training dan testing set\n",
        "X_train, X_test, y_train, y_test = train_test_split(X, y, test_size=0.2, random_state=42, stratify=y)\n",
        "\n",
        "# Mengidentifikasi kolom numerik dan kategorikal (untuk contoh ini, asumsikan semua fitur adalah numerik)\n",
        "# Jika ada kategorikal:\n",
        "# categorical_features = X.select_dtypes(include=['object', 'category']).columns\n",
        "# numerical_features = X.select_dtypes(include=np.number).columns\n",
        "\n",
        "# Untuk demo ini, kita asumsikan semua fitur adalah numerik dan perlu diskalakan\n",
        "numerical_features = X.columns\n",
        "preprocessor = ColumnTransformer(\n",
        "    transformers=[\n",
        "        ('num', StandardScaler(), numerical_features)\n",
        "        # Jika ada kategorikal:\n",
        "        # ('cat', OneHotEncoder(handle_unknown='ignore'), categorical_features)\n",
        "    ])\n",
        "\n",
        "print(\"Data telah dipisah dan siap untuk pra-pemrosesan.\")"
      ],
      "metadata": {
        "id": "IJvaGf9A5xgm"
      },
      "execution_count": null,
      "outputs": []
    },
    {
      "cell_type": "code",
      "source": [
        "print(\"\\nMelatih Model XGBoost...\")\n",
        "# Membuat Pipeline untuk pra-pemrosesan dan model\n",
        "xgboost_pipeline = Pipeline(steps=[('preprocessor', preprocessor),\n",
        "                                   ('classifier', xgb.XGBClassifier(use_label_encoder=False, eval_metric='logloss', random_state=42))])\n",
        "\n",
        "xgboost_pipeline.fit(X_train, y_train)\n",
        "\n",
        "# Prediksi dan Evaluasi\n",
        "y_pred_xgb = xgboost_pipeline.predict(X_test)\n",
        "y_prob_xgb = xgboost_pipeline.predict_proba(X_test)[:, 1]\n",
        "\n",
        "print(\"\\nEvaluasi Model XGBoost:\")\n",
        "print(classification_report(y_test, y_pred_xgb))\n",
        "print(\"\\nConfusion Matrix XGBoost:\")\n",
        "print(confusion_matrix(y_test, y_pred_xgb))\n",
        "\n",
        "# Plot ROC Curve\n",
        "fpr_xgb, tpr_xgb, _ = roc_curve(y_test, y_prob_xgb)\n",
        "roc_auc_xgb = auc(fpr_xgb, tpr_xgb)\n",
        "\n",
        "plt.figure(figsize=(8, 6))\n",
        "plt.plot(fpr_xgb, tpr_xgb, color='darkorange', lw=2, label=f'ROC curve (area = {roc_auc_xgb:.2f})')\n",
        "plt.plot([0, 1], [0, 1], color='navy', lw=2, linestyle='--')\n",
        "plt.xlim([0.0, 1.0])\n",
        "plt.ylim([0.0, 1.05])\n",
        "plt.xlabel('False Positive Rate')\n",
        "plt.ylabel('True Positive Rate')\n",
        "plt.title('Receiver Operating Characteristic (ROC) Curve - XGBoost')\n",
        "plt.legend(loc=\"lower right\")\n",
        "plt.show()"
      ],
      "metadata": {
        "id": "zDaVyrb550ZR"
      },
      "execution_count": null,
      "outputs": []
    },
    {
      "cell_type": "code",
      "source": [
        "print(\"\\nMelatih Model Deep Learning (TensorFlow)...\")\n",
        "\n",
        "# Pra-pemrosesan data secara terpisah untuk TF (TensorFlow membutuhkan data numerik yang diskalakan)\n",
        "X_train_processed = preprocessor.fit_transform(X_train)\n",
        "X_test_processed = preprocessor.transform(X_test)\n",
        "\n",
        "# Membangun model Neural Network\n",
        "model_nn = tf.keras.Sequential([\n",
        "    tf.keras.layers.Dense(64, activation='relu', input_shape=(X_train_processed.shape[1],)),\n",
        "    tf.keras.layers.Dropout(0.3),\n",
        "    tf.keras.layers.Dense(32, activation='relu'),\n",
        "    tf.keras.layers.Dropout(0.3),\n",
        "    tf.keras.layers.Dense(1, activation='sigmoid') # Output biner untuk klasifikasi\n",
        "])\n",
        "\n",
        "model_nn.compile(optimizer='adam',\n",
        "                 loss='binary_crossentropy',\n",
        "                 metrics=['accuracy'])\n",
        "\n",
        "# Melatih model\n",
        "history = model_nn.fit(X_train_processed, y_train,\n",
        "                       epochs=50,\n",
        "                       batch_size=32,\n",
        "                       validation_split=0.2,\n",
        "                       verbose=0) # verbose=0 untuk output yang lebih bersih\n",
        "\n",
        "# Evaluasi Model\n",
        "loss_nn, accuracy_nn = model_nn.evaluate(X_test_processed, y_test, verbose=0)\n",
        "y_prob_nn = model_nn.predict(X_test_processed).flatten()\n",
        "y_pred_nn = (y_prob_nn > 0.5).astype(int)\n",
        "\n",
        "print(f\"\\nEvaluasi Model Neural Network - Akurasi: {accuracy_nn:.4f}, Loss: {loss_nn:.4f}\")\n",
        "print(\"\\nClassification Report Neural Network:\")\n",
        "print(classification_report(y_test, y_pred_nn))\n",
        "\n",
        "# Plot training history (accuracy dan loss)\n",
        "plt.figure(figsize=(12, 5))\n",
        "\n",
        "plt.subplot(1, 2, 1)\n",
        "plt.plot(history.history['accuracy'], label='Training Accuracy')\n",
        "plt.plot(history.history['val_accuracy'], label='Validation Accuracy')\n",
        "plt.title('Akurasi Model Neural Network selama Pelatihan')\n",
        "plt.xlabel('Epoch')\n",
        "plt.ylabel('Akurasi')\n",
        "plt.legend()\n",
        "\n",
        "plt.subplot(1, 2, 2)\n",
        "plt.plot(history.history['loss'], label='Training Loss')\n",
        "plt.plot(history.history['val_loss'], label='Validation Loss')\n",
        "plt.title('Loss Model Neural Network selama Pelatihan')\n",
        "plt.xlabel('Epoch')\n",
        "plt.ylabel('Loss')\n",
        "plt.legend()\n",
        "plt.tight_layout()\n",
        "plt.show()"
      ],
      "metadata": {
        "id": "yDsfeVZp54WG"
      },
      "execution_count": null,
      "outputs": []
    },
    {
      "cell_type": "code",
      "source": [
        "print(\"\\nInterpretasi Model Menggunakan SHAP...\")\n",
        "\n",
        "# Inisialisasi SHAP explainer\n",
        "# Pastikan Anda mendapatkan model classifier dari pipeline\n",
        "explainer = shap.TreeExplainer(xgboost_pipeline.named_steps['classifier'])\n",
        "shap_values = explainer.shap_values(preprocessor.transform(X_test))\n",
        "\n",
        "# Ringkasan plot dari nilai SHAP\n",
        "# Perhatikan bahwa fitur_names berasal dari X.columns\n",
        "shap.summary_plot(shap_values, preprocessor.transform(X_test), feature_names=X.columns)\n",
        "plt.title('Ringkasan Pentingnya Fitur Global (SHAP)')\n",
        "plt.show()\n",
        "\n",
        "# Plot untuk observasi tunggal (misalnya, prediksi untuk 5 baris pertama dari test set)\n",
        "print(\"\\nDetail Interpretasi untuk Beberapa Prediksi:\")\n",
        "for i in range(5):\n",
        "    print(f\"Interpretasi untuk Observasi {i+1} (Prediksi: {'Churn' if y_pred_xgb[i] == 1 else 'Non-Churn'}):\")\n",
        "    shap.initjs() # Untuk rendering JS di notebook\n",
        "    shap.force_plot(explainer.expected_value, shap_values[i], preprocessor.transform(X_test)[i], feature_names=X.columns)\n",
        "    plt.show()"
      ],
      "metadata": {
        "id": "rAJ9F5cp6AMd"
      },
      "execution_count": null,
      "outputs": []
    },
    {
      "cell_type": "code",
      "source": [
        "print(\"\\nVisualisasi Wawasan Tambahan...\")\n",
        "\n",
        "# Contoh: Box plot untuk membandingkan distribusi fitur penting antara churn dan non-churn\n",
        "# Ganti 'feature_X' dengan nama fitur dari data Anda yang relevan dari SHAP\n",
        "plt.figure(figsize=(10, 6))\n",
        "sns.boxplot(x='target_churn', y='feature_0', data=df) # Ganti 'feature_0' dengan fitur yang relevan\n",
        "plt.title('Distribusi Feature_0 berdasarkan Churn')\n",
        "plt.xlabel('Churn (0: No, 1: Yes)')\n",
        "plt.ylabel('Feature_0 Value')\n",
        "plt.show()\n",
        "\n",
        "# Contoh: Scatter plot dengan regresi linier sederhana (jika ada hubungan antara dua fitur)\n",
        "# plt.figure(figsize=(10, 6))\n",
        "# sns.scatterplot(x='feature_1', y='feature_2', hue='target_churn', data=df)\n",
        "# plt.title('Hubungan antara Feature_1 dan Feature_2')\n",
        "# plt.show()"
      ],
      "metadata": {
        "id": "7dEb5iST6GEP"
      },
      "execution_count": null,
      "outputs": []
    }
  ]
}